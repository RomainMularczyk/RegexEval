{
 "cells": [
  {
   "cell_type": "markdown",
   "metadata": {},
   "source": [
    "# Identification des motifs de divorce par expressions régulières"
   ]
  },
  {
   "cell_type": "code",
   "execution_count": 5,
   "metadata": {},
   "outputs": [],
   "source": [
    "import os\n",
    "import re\n",
    "import pandas as pd\n",
    "import matplotlib.pyplot as plt\n",
    "from regex_utils import RegexEval\n",
    "import preprocess_func"
   ]
  },
  {
   "cell_type": "markdown",
   "metadata": {},
   "source": [
    "## Prototytpe à partir des motifs identifiés manuellement"
   ]
  },
  {
   "cell_type": "code",
   "execution_count": 6,
   "metadata": {},
   "outputs": [],
   "source": [
    "path_causes_divorces = os.path.join(\"../data/annotation_manuelle/cause_divorce\", \"regex_causes_divorces.csv\")"
   ]
  },
  {
   "cell_type": "code",
   "execution_count": 7,
   "metadata": {},
   "outputs": [],
   "source": [
    "# Chargement données prototypes\n",
    "df = pd.read_csv(path_causes_divorces, sep=\";\")"
   ]
  },
  {
   "cell_type": "markdown",
   "metadata": {},
   "source": [
    "On a identifié ici quelques motifs récurrents :\n",
    "* Faute :\n",
    "    * article 242, articles 242 et suivants\n",
    "    * torts de l'époux, torts du mari, torts exclusifs, torts partagés, torts réciproques\n",
    "    * violation grave ou renouvelée\n",
    "* Divorce accepté :\n",
    "    * article 233, article 234\n",
    "    * pour acceptation ... rupture du mariage\n",
    "    * principe ... rupture ... mariage\n",
    "    * acceptation\n",
    "* Par altération définitive du lien conjugal :\n",
    "    * article 237, article 238\n",
    "    * altération définitive ... conjugal\n",
    "    * lien conjugal ... altéré\n",
    "* Consentement mutuel :\n",
    "    * consentement mutuel"
   ]
  },
  {
   "cell_type": "markdown",
   "metadata": {},
   "source": [
    "### Pour faute"
   ]
  },
  {
   "cell_type": "code",
   "execution_count": 8,
   "metadata": {},
   "outputs": [],
   "source": [
    "faute = re.compile((\"aux torts (exclusif(s)?)? ?de?|\"\n",
    "\"aux torts (exclusif(s)?)? ?du mari|\"\n",
    "\"aux torts (exclusif(s)?)? ?de la femme|\"\n",
    "\"torts réciproques|\"\n",
    "\"aux torts partagés|\"\n",
    "\"à leurs torts partagés|\"\n",
    "\"violation grave ou renouvelée|\"\n",
    "\"aux torts .+ divorce\"))\n",
    "\n",
    "# \"article.*? 242|\" => Trop d'overmatch\n",
    "# https://regex101.com/r/w2asvP/1"
   ]
  },
  {
   "cell_type": "markdown",
   "metadata": {},
   "source": [
    "### Divorce accepté"
   ]
  },
  {
   "cell_type": "markdown",
   "metadata": {},
   "source": [
    "A partir des quelques tests effectués, on peut noter :\n",
    "* L'article 234 seul apparaît quelque fois"
   ]
  },
  {
   "cell_type": "code",
   "execution_count": 9,
   "metadata": {},
   "outputs": [],
   "source": [
    "divorce_accepte = re.compile((\n",
    "\"article 233|\"\n",
    "\"article. 233|\"\n",
    "\"(?<!lorsqu).+?prononce.+?pour.+?acceptation|\"\n",
    "\"(?<!lorsqu).+?accept.+?rupture.+?mariage|\"\n",
    "\"(?<!lorsqu)accord.+?principe.+?rupture|\"\n",
    "\"(?<!lorsqu)accord.+?principe.+?divorce\"\n",
    "))"
   ]
  },
  {
   "cell_type": "markdown",
   "metadata": {},
   "source": [
    "### Pour altération définitive du lien conjugal"
   ]
  },
  {
   "cell_type": "code",
   "execution_count": 10,
   "metadata": {},
   "outputs": [],
   "source": [
    "alteration = re.compile(\n",
    "\"article.*? 23[78]\"\n",
    ")"
   ]
  },
  {
   "cell_type": "markdown",
   "metadata": {},
   "source": [
    "### Séparation de corps"
   ]
  },
  {
   "cell_type": "code",
   "execution_count": 11,
   "metadata": {},
   "outputs": [],
   "source": [
    "separation = re.compile(\n",
    "\"article 306|séparation .*? corps\"\n",
    ")"
   ]
  },
  {
   "cell_type": "markdown",
   "metadata": {},
   "source": [
    "### Par consentement mutuel"
   ]
  },
  {
   "cell_type": "code",
   "execution_count": 12,
   "metadata": {},
   "outputs": [],
   "source": [
    "consentement = re.compile(\n",
    "\"consentement mutuel\"\n",
    ")"
   ]
  },
  {
   "cell_type": "markdown",
   "metadata": {},
   "source": [
    "## Evaluation des expressions régulières"
   ]
  },
  {
   "cell_type": "markdown",
   "metadata": {},
   "source": [
    "A l'aide de quelques fonctions, on peut évaluer la sensibilité et la spécificité des expressions régulières définies plus haut."
   ]
  },
  {
   "cell_type": "code",
   "execution_count": 13,
   "metadata": {},
   "outputs": [],
   "source": [
    "regexp = {\n",
    "    \"Divorce accepté\": divorce_accepte,\n",
    "    \"Pour altération définitive du lien conjugal\": alteration,\n",
    "    \"Faute\": faute,\n",
    "    \"Par conversion de séparation de corps\": separation,\n",
    "    \"Consentement mutuel\": consentement\n",
    "}"
   ]
  },
  {
   "cell_type": "markdown",
   "metadata": {},
   "source": [
    "## Analyse des résultats"
   ]
  },
  {
   "cell_type": "code",
   "execution_count": 14,
   "metadata": {},
   "outputs": [],
   "source": [
    "# Function to order results in a table\n",
    "def table_results(total, dict_per, dict_n):\n",
    "    return pd.DataFrame({\"True positives\": [dict_per[\"TP\"], dict_n[\"TP\"]],\n",
    "                         \"False negatives\": [dict_per[\"FN\"], dict_n[\"FN\"]],\n",
    "                         \"Total\": [100, total]}, index=pd.Index([\"%\", \"N\"]))"
   ]
  },
  {
   "cell_type": "code",
   "execution_count": 15,
   "metadata": {},
   "outputs": [],
   "source": [
    "regex_eval = RegexEval(regexp)"
   ]
  },
  {
   "cell_type": "markdown",
   "metadata": {},
   "source": [
    "On applique l'évaluation des expressions régulières sur chaque type de cause de divorce.\n",
    "\n",
    "Pour cela, il nous faut construire un tableau qui contienne :\n",
    "* L'identifiant unique du document\n",
    "* Le plein text\n",
    "* Le type de divorce\n",
    "* Le label du dictionnaire dans lequel on renseigne chaque expression régulière"
   ]
  },
  {
   "cell_type": "code",
   "execution_count": 16,
   "metadata": {},
   "outputs": [],
   "source": [
    "for label in regexp.keys():\n",
    "    for idx, row in df.iterrows():\n",
    "        regex_eval.regex(doc_id=row[\"id\"],\n",
    "                         text=row[\"texte\"],\n",
    "                         label=row[\"type\"],\n",
    "                         exp=label)"
   ]
  },
  {
   "cell_type": "markdown",
   "metadata": {},
   "source": [
    "On peut exporter individuellement chaque résultat dans un tableau."
   ]
  },
  {
   "cell_type": "code",
   "execution_count": 17,
   "metadata": {},
   "outputs": [],
   "source": [
    "regex_eval.export_results()"
   ]
  },
  {
   "cell_type": "markdown",
   "metadata": {},
   "source": [
    "Enfin, on peut visualiser le ratio sensibilité/spécificité à l'aide d'une matrice de confusion."
   ]
  },
  {
   "cell_type": "markdown",
   "metadata": {},
   "source": [
    "### Pour faute"
   ]
  },
  {
   "cell_type": "markdown",
   "metadata": {},
   "source": [
    "* `VERSAILLES 08-03034` : erreur de codage, devrait être **\"divorce pour faute\"**"
   ]
  },
  {
   "cell_type": "code",
   "execution_count": 18,
   "metadata": {},
   "outputs": [],
   "source": [
    "total, results = regex_eval.calculate_metrics(\"Faute\")\n",
    "total, n = regex_eval.calculate_metrics(\"Faute\", percentage=False)"
   ]
  },
  {
   "cell_type": "code",
   "execution_count": 19,
   "metadata": {},
   "outputs": [
    {
     "data": {
      "text/html": [
       "<div>\n",
       "<style scoped>\n",
       "    .dataframe tbody tr th:only-of-type {\n",
       "        vertical-align: middle;\n",
       "    }\n",
       "\n",
       "    .dataframe tbody tr th {\n",
       "        vertical-align: top;\n",
       "    }\n",
       "\n",
       "    .dataframe thead th {\n",
       "        text-align: right;\n",
       "    }\n",
       "</style>\n",
       "<table border=\"1\" class=\"dataframe\">\n",
       "  <thead>\n",
       "    <tr style=\"text-align: right;\">\n",
       "      <th></th>\n",
       "      <th>True positives</th>\n",
       "      <th>False negatives</th>\n",
       "      <th>Total</th>\n",
       "    </tr>\n",
       "  </thead>\n",
       "  <tbody>\n",
       "    <tr>\n",
       "      <th>%</th>\n",
       "      <td>94.186047</td>\n",
       "      <td>5.813953</td>\n",
       "      <td>100</td>\n",
       "    </tr>\n",
       "    <tr>\n",
       "      <th>N</th>\n",
       "      <td>81.000000</td>\n",
       "      <td>5.000000</td>\n",
       "      <td>86</td>\n",
       "    </tr>\n",
       "  </tbody>\n",
       "</table>\n",
       "</div>"
      ],
      "text/plain": [
       "   True positives  False negatives  Total\n",
       "%       94.186047         5.813953    100\n",
       "N       81.000000         5.000000     86"
      ]
     },
     "execution_count": 19,
     "metadata": {},
     "output_type": "execute_result"
    }
   ],
   "source": [
    "table_results(total, results, n)"
   ]
  },
  {
   "cell_type": "code",
   "execution_count": 20,
   "metadata": {},
   "outputs": [
    {
     "data": {
      "image/png": "[encoded data removed]",
      "text/plain": [
       "<Figure size 432x288 with 2 Axes>"
      ]
     },
     "metadata": {
      "needs_background": "light"
     },
     "output_type": "display_data"
    }
   ],
   "source": [
    "regex_eval.plot_confusion_matrix(\"Faute\")"
   ]
  },
  {
   "cell_type": "markdown",
   "metadata": {},
   "source": [
    "### Divorce accepté"
   ]
  },
  {
   "cell_type": "code",
   "execution_count": 21,
   "metadata": {},
   "outputs": [],
   "source": [
    "total, results = regex_eval.calculate_metrics(\"Divorce accepté\")\n",
    "total, n = regex_eval.calculate_metrics(\"Divorce accepté\", percentage=False)"
   ]
  },
  {
   "cell_type": "code",
   "execution_count": 22,
   "metadata": {},
   "outputs": [
    {
     "data": {
      "text/html": [
       "<div>\n",
       "<style scoped>\n",
       "    .dataframe tbody tr th:only-of-type {\n",
       "        vertical-align: middle;\n",
       "    }\n",
       "\n",
       "    .dataframe tbody tr th {\n",
       "        vertical-align: top;\n",
       "    }\n",
       "\n",
       "    .dataframe thead th {\n",
       "        text-align: right;\n",
       "    }\n",
       "</style>\n",
       "<table border=\"1\" class=\"dataframe\">\n",
       "  <thead>\n",
       "    <tr style=\"text-align: right;\">\n",
       "      <th></th>\n",
       "      <th>True positives</th>\n",
       "      <th>False negatives</th>\n",
       "      <th>Total</th>\n",
       "    </tr>\n",
       "  </thead>\n",
       "  <tbody>\n",
       "    <tr>\n",
       "      <th>%</th>\n",
       "      <td>90.625</td>\n",
       "      <td>9.375</td>\n",
       "      <td>100</td>\n",
       "    </tr>\n",
       "    <tr>\n",
       "      <th>N</th>\n",
       "      <td>116.000</td>\n",
       "      <td>12.000</td>\n",
       "      <td>128</td>\n",
       "    </tr>\n",
       "  </tbody>\n",
       "</table>\n",
       "</div>"
      ],
      "text/plain": [
       "   True positives  False negatives  Total\n",
       "%          90.625            9.375    100\n",
       "N         116.000           12.000    128"
      ]
     },
     "execution_count": 22,
     "metadata": {},
     "output_type": "execute_result"
    }
   ],
   "source": [
    "table_results(total, results, n)"
   ]
  },
  {
   "cell_type": "code",
   "execution_count": 23,
   "metadata": {},
   "outputs": [
    {
     "data": {
      "image/png": "[encoded data removed]",
      "text/plain": [
       "<Figure size 432x288 with 2 Axes>"
      ]
     },
     "metadata": {
      "needs_background": "light"
     },
     "output_type": "display_data"
    }
   ],
   "source": [
    "regex_eval.plot_confusion_matrix(\"Divorce accepté\")"
   ]
  },
  {
   "cell_type": "markdown",
   "metadata": {},
   "source": [
    "### Pour altération définitive du lien conjugal"
   ]
  },
  {
   "cell_type": "code",
   "execution_count": 24,
   "metadata": {},
   "outputs": [],
   "source": [
    "total, results = regex_eval.calculate_metrics(\"Pour altération définitive du lien conjugal\")\n",
    "total, n = regex_eval.calculate_metrics(\"Pour altération définitive du lien conjugal\", percentage=False)"
   ]
  },
  {
   "cell_type": "code",
   "execution_count": 25,
   "metadata": {},
   "outputs": [
    {
     "data": {
      "text/html": [
       "<div>\n",
       "<style scoped>\n",
       "    .dataframe tbody tr th:only-of-type {\n",
       "        vertical-align: middle;\n",
       "    }\n",
       "\n",
       "    .dataframe tbody tr th {\n",
       "        vertical-align: top;\n",
       "    }\n",
       "\n",
       "    .dataframe thead th {\n",
       "        text-align: right;\n",
       "    }\n",
       "</style>\n",
       "<table border=\"1\" class=\"dataframe\">\n",
       "  <thead>\n",
       "    <tr style=\"text-align: right;\">\n",
       "      <th></th>\n",
       "      <th>True positives</th>\n",
       "      <th>False negatives</th>\n",
       "      <th>Total</th>\n",
       "    </tr>\n",
       "  </thead>\n",
       "  <tbody>\n",
       "    <tr>\n",
       "      <th>%</th>\n",
       "      <td>42.574257</td>\n",
       "      <td>57.425743</td>\n",
       "      <td>100</td>\n",
       "    </tr>\n",
       "    <tr>\n",
       "      <th>N</th>\n",
       "      <td>43.000000</td>\n",
       "      <td>58.000000</td>\n",
       "      <td>101</td>\n",
       "    </tr>\n",
       "  </tbody>\n",
       "</table>\n",
       "</div>"
      ],
      "text/plain": [
       "   True positives  False negatives  Total\n",
       "%       42.574257        57.425743    100\n",
       "N       43.000000        58.000000    101"
      ]
     },
     "execution_count": 25,
     "metadata": {},
     "output_type": "execute_result"
    }
   ],
   "source": [
    "table_results(total, results, n)"
   ]
  },
  {
   "cell_type": "code",
   "execution_count": 26,
   "metadata": {},
   "outputs": [
    {
     "data": {
      "image/png": "[encoded data removed]",
      "text/plain": [
       "<Figure size 432x288 with 2 Axes>"
      ]
     },
     "metadata": {
      "needs_background": "light"
     },
     "output_type": "display_data"
    }
   ],
   "source": [
    "regex_eval.plot_confusion_matrix(\"Pour altération définitive du lien conjugal\")"
   ]
  },
  {
   "cell_type": "markdown",
   "metadata": {},
   "source": [
    "Le corpus prototypes compte 101 documents qui enregistrent un divorce pour cause d'\"altération définitive du lien conjugal\".\n",
    "\n",
    "La mention des articles 237 ou 239 suffit pour identifier relativement précisément les divorces pour \"altération définitive du lien conjugal\"."
   ]
  },
  {
   "cell_type": "markdown",
   "metadata": {},
   "source": [
    "### Séparation de corps"
   ]
  },
  {
   "cell_type": "code",
   "execution_count": 27,
   "metadata": {},
   "outputs": [
    {
     "data": {
      "text/html": [
       "<div>\n",
       "<style scoped>\n",
       "    .dataframe tbody tr th:only-of-type {\n",
       "        vertical-align: middle;\n",
       "    }\n",
       "\n",
       "    .dataframe tbody tr th {\n",
       "        vertical-align: top;\n",
       "    }\n",
       "\n",
       "    .dataframe thead th {\n",
       "        text-align: right;\n",
       "    }\n",
       "</style>\n",
       "<table border=\"1\" class=\"dataframe\">\n",
       "  <thead>\n",
       "    <tr style=\"text-align: right;\">\n",
       "      <th></th>\n",
       "      <th>True positives</th>\n",
       "      <th>False negatives</th>\n",
       "      <th>Total</th>\n",
       "    </tr>\n",
       "  </thead>\n",
       "  <tbody>\n",
       "    <tr>\n",
       "      <th>%</th>\n",
       "      <td>100.0</td>\n",
       "      <td>0.0</td>\n",
       "      <td>100</td>\n",
       "    </tr>\n",
       "    <tr>\n",
       "      <th>N</th>\n",
       "      <td>6.0</td>\n",
       "      <td>0.0</td>\n",
       "      <td>6</td>\n",
       "    </tr>\n",
       "  </tbody>\n",
       "</table>\n",
       "</div>"
      ],
      "text/plain": [
       "   True positives  False negatives  Total\n",
       "%           100.0              0.0    100\n",
       "N             6.0              0.0      6"
      ]
     },
     "execution_count": 27,
     "metadata": {},
     "output_type": "execute_result"
    }
   ],
   "source": [
    "total, results = regex_eval.calculate_metrics(\"Par conversion de séparation de corps\")\n",
    "total, n = regex_eval.calculate_metrics(\"Par conversion de séparation de corps\", percentage=False)\n",
    "\n",
    "table_results(total, results, n)"
   ]
  },
  {
   "cell_type": "code",
   "execution_count": 28,
   "metadata": {},
   "outputs": [
    {
     "data": {
      "image/png": "[encoded data removed]",
      "text/plain": [
       "<Figure size 432x288 with 2 Axes>"
      ]
     },
     "metadata": {
      "needs_background": "light"
     },
     "output_type": "display_data"
    }
   ],
   "source": [
    "regex_eval.plot_confusion_matrix(\"Par conversion de séparation de corps\")"
   ]
  },
  {
   "cell_type": "markdown",
   "metadata": {},
   "source": [
    "### Par consentement mutuel"
   ]
  },
  {
   "cell_type": "code",
   "execution_count": 29,
   "metadata": {},
   "outputs": [],
   "source": [
    "total, results = regex_eval.calculate_metrics(\"Consentement mutuel\")\n",
    "total, n = regex_eval.calculate_metrics(\"Consentement mutuel\", percentage=False)"
   ]
  },
  {
   "cell_type": "code",
   "execution_count": 30,
   "metadata": {},
   "outputs": [
    {
     "data": {
      "text/html": [
       "<div>\n",
       "<style scoped>\n",
       "    .dataframe tbody tr th:only-of-type {\n",
       "        vertical-align: middle;\n",
       "    }\n",
       "\n",
       "    .dataframe tbody tr th {\n",
       "        vertical-align: top;\n",
       "    }\n",
       "\n",
       "    .dataframe thead th {\n",
       "        text-align: right;\n",
       "    }\n",
       "</style>\n",
       "<table border=\"1\" class=\"dataframe\">\n",
       "  <thead>\n",
       "    <tr style=\"text-align: right;\">\n",
       "      <th></th>\n",
       "      <th>True positives</th>\n",
       "      <th>False negatives</th>\n",
       "      <th>Total</th>\n",
       "    </tr>\n",
       "  </thead>\n",
       "  <tbody>\n",
       "    <tr>\n",
       "      <th>%</th>\n",
       "      <td>100.0</td>\n",
       "      <td>0.0</td>\n",
       "      <td>100</td>\n",
       "    </tr>\n",
       "    <tr>\n",
       "      <th>N</th>\n",
       "      <td>1.0</td>\n",
       "      <td>0.0</td>\n",
       "      <td>1</td>\n",
       "    </tr>\n",
       "  </tbody>\n",
       "</table>\n",
       "</div>"
      ],
      "text/plain": [
       "   True positives  False negatives  Total\n",
       "%           100.0              0.0    100\n",
       "N             1.0              0.0      1"
      ]
     },
     "execution_count": 30,
     "metadata": {},
     "output_type": "execute_result"
    }
   ],
   "source": [
    "table_results(total, results, n)"
   ]
  },
  {
   "cell_type": "code",
   "execution_count": 31,
   "metadata": {},
   "outputs": [
    {
     "data": {
      "image/png": "[encoded data removed]",
      "text/plain": [
       "<Figure size 432x288 with 2 Axes>"
      ]
     },
     "metadata": {
      "needs_background": "light"
     },
     "output_type": "display_data"
    }
   ],
   "source": [
    "regex_eval.plot_confusion_matrix(\"Consentement mutuel\")"
   ]
  },
  {
   "cell_type": "markdown",
   "metadata": {},
   "source": [
    "## Test sur le corpus complet"
   ]
  },
  {
   "cell_type": "code",
   "execution_count": 32,
   "metadata": {},
   "outputs": [
    {
     "name": "stderr",
     "output_type": "stream",
     "text": [
      "C:\\Users\\RomainM\\Anaconda3\\envs\\data_science\\lib\\site-packages\\IPython\\core\\interactiveshell.py:3156: DtypeWarning: Columns (324,325,339,340,433,434,435,462,464,617) have mixed types.Specify dtype option on import or set low_memory=False.\n",
      "  interactivity=interactivity, compiler=compiler, result=result)\n"
     ]
    }
   ],
   "source": [
    "# Chargement données COMPRES\n",
    "df_compres = pd.read_csv(os.path.join(\"../data/tables\", \"compres.csv\"))"
   ]
  },
  {
   "cell_type": "markdown",
   "metadata": {},
   "source": [
    "A partir des données contenues dans le tableau COMPRES et le corpus complet des textes, on peut tenter à présenter d'évaluer les expressions régulières sur un jeu plus important."
   ]
  },
  {
   "cell_type": "markdown",
   "metadata": {},
   "source": [
    "Dans le tableau COMPRES, la colonne `DIV_DMDE` contient les informations sur le type de divorce de chaque document.\n",
    "\n",
    "On peut définir une fonction permettant de récupérer cette information qui est codée sous la forme suivante :\n",
    "* `1` : Consentement mutuel\n",
    "* `2` : Divorce accepté\n",
    "* `3` : Faute\n",
    "* `4` : Altération définitive du lien conjugal\n",
    "* `5` : Par conversion de séparation de corps\n",
    "* `6` : Autre\n",
    "* `7` : Non renseigné"
   ]
  },
  {
   "cell_type": "code",
   "execution_count": 33,
   "metadata": {},
   "outputs": [],
   "source": [
    "def get_divorce_type(df_compres, fname):\n",
    "    divorce_type = df_compres[df_compres[\"id\"] == fname][\"DIV_DMDE\"].item()\n",
    "    if divorce_type == 1:\n",
    "        return \"Consentement mutuel\"\n",
    "    elif divorce_type == 2:\n",
    "        return \"Divorce accepté\"\n",
    "    elif divorce_type == 3:\n",
    "        return \"Faute\"\n",
    "    elif divorce_type == 4:\n",
    "        return \"Pour altération définitive du lien conjugal\"\n",
    "    elif divorce_type == 5:\n",
    "        return \"Par conversion de séparation de corps\"\n",
    "    elif divorce_type == 6:\n",
    "        return \"Autre\"\n",
    "    elif divorce_type == 7:\n",
    "        return \"Non renseigné\"\n",
    "    else:\n",
    "        return None"
   ]
  },
  {
   "cell_type": "markdown",
   "metadata": {},
   "source": [
    "Dans cette boucle, on reconstruit un tableau qui permet d'associer les données COMPRES avec le text intégral."
   ]
  },
  {
   "cell_type": "code",
   "execution_count": 34,
   "metadata": {},
   "outputs": [],
   "source": [
    "path_to_texts = \"../data/texts\"\n",
    "list_metadata = []\n",
    "\n",
    "for file in os.listdir(path_to_texts):\n",
    "    if file.endswith(\".txt\"):\n",
    "        with open(os.path.join(path_to_texts, file), \"r\", encoding=\"utf-8\") as text:\n",
    "            f = text.read()\n",
    "            metadata = {\"id\": file[:-4],\n",
    "                        \"type\": get_divorce_type(df_compres=df_compres, fname=file[:-4]),\n",
    "                        \"texte\": f}\n",
    "        list_metadata.append(metadata)"
   ]
  },
  {
   "cell_type": "code",
   "execution_count": 35,
   "metadata": {},
   "outputs": [],
   "source": [
    "df_fulltext = pd.DataFrame(list_metadata)"
   ]
  },
  {
   "cell_type": "markdown",
   "metadata": {},
   "source": [
    "A partir du tableau sur le texte intégral, on peut évaluer les expressions régulières sur un corpus plus large."
   ]
  },
  {
   "cell_type": "code",
   "execution_count": 36,
   "metadata": {},
   "outputs": [],
   "source": [
    "regex_eval = RegexEval(regexp)"
   ]
  },
  {
   "cell_type": "code",
   "execution_count": 37,
   "metadata": {},
   "outputs": [
    {
     "data": {
      "text/plain": [
       "array(['Pour altération définitive du lien conjugal', 'Divorce accepté',\n",
       "       'Faute', 'Par conversion de séparation de corps', None, 'Autre'],\n",
       "      dtype=object)"
      ]
     },
     "execution_count": 37,
     "metadata": {},
     "output_type": "execute_result"
    }
   ],
   "source": [
    "df_fulltext[\"type\"].unique()"
   ]
  },
  {
   "cell_type": "code",
   "execution_count": 38,
   "metadata": {},
   "outputs": [],
   "source": [
    "for label in regexp.keys():\n",
    "    for idx, row in df_fulltext.iterrows():\n",
    "        regex_eval.regex(doc_id=row[\"id\"],\n",
    "                         text=row[\"texte\"],\n",
    "                         label=row[\"type\"],\n",
    "                         exp=label)"
   ]
  },
  {
   "cell_type": "code",
   "execution_count": 39,
   "metadata": {},
   "outputs": [],
   "source": [
    "regex_eval.export_results()"
   ]
  },
  {
   "cell_type": "markdown",
   "metadata": {},
   "source": [
    "### Pour faute"
   ]
  },
  {
   "cell_type": "code",
   "execution_count": 40,
   "metadata": {},
   "outputs": [],
   "source": [
    "total, results = regex_eval.calculate_metrics(\"Faute\")\n",
    "total, n = regex_eval.calculate_metrics(\"Faute\", percentage=False)"
   ]
  },
  {
   "cell_type": "code",
   "execution_count": 41,
   "metadata": {},
   "outputs": [
    {
     "data": {
      "text/html": [
       "<div>\n",
       "<style scoped>\n",
       "    .dataframe tbody tr th:only-of-type {\n",
       "        vertical-align: middle;\n",
       "    }\n",
       "\n",
       "    .dataframe tbody tr th {\n",
       "        vertical-align: top;\n",
       "    }\n",
       "\n",
       "    .dataframe thead th {\n",
       "        text-align: right;\n",
       "    }\n",
       "</style>\n",
       "<table border=\"1\" class=\"dataframe\">\n",
       "  <thead>\n",
       "    <tr style=\"text-align: right;\">\n",
       "      <th></th>\n",
       "      <th>True positives</th>\n",
       "      <th>False negatives</th>\n",
       "      <th>Total</th>\n",
       "    </tr>\n",
       "  </thead>\n",
       "  <tbody>\n",
       "    <tr>\n",
       "      <th>%</th>\n",
       "      <td>98.75</td>\n",
       "      <td>1.25</td>\n",
       "      <td>100</td>\n",
       "    </tr>\n",
       "    <tr>\n",
       "      <th>N</th>\n",
       "      <td>474.00</td>\n",
       "      <td>6.00</td>\n",
       "      <td>480</td>\n",
       "    </tr>\n",
       "  </tbody>\n",
       "</table>\n",
       "</div>"
      ],
      "text/plain": [
       "   True positives  False negatives  Total\n",
       "%           98.75             1.25    100\n",
       "N          474.00             6.00    480"
      ]
     },
     "execution_count": 41,
     "metadata": {},
     "output_type": "execute_result"
    }
   ],
   "source": [
    "table_results(total, results, n)"
   ]
  },
  {
   "cell_type": "code",
   "execution_count": 42,
   "metadata": {},
   "outputs": [
    {
     "data": {
      "image/png": "[encoded data removed]",
      "text/plain": [
       "<Figure size 432x288 with 2 Axes>"
      ]
     },
     "metadata": {
      "needs_background": "light"
     },
     "output_type": "display_data"
    }
   ],
   "source": [
    "regex_eval.plot_confusion_matrix(\"Faute\")"
   ]
  },
  {
   "cell_type": "markdown",
   "metadata": {},
   "source": [
    "On arrive à bien identifier les **divorces pour faute** à l'aide d'expressions régulières avec une bonne sensibilité (seulement **5 cas non identifiés**), mais une mauvaise spécificité."
   ]
  },
  {
   "cell_type": "markdown",
   "metadata": {},
   "source": [
    "### Divorce accepté"
   ]
  },
  {
   "cell_type": "code",
   "execution_count": 43,
   "metadata": {},
   "outputs": [],
   "source": [
    "total, results = regex_eval.calculate_metrics(\"Divorce accepté\")\n",
    "total, n = regex_eval.calculate_metrics(\"Divorce accepté\", percentage=False)"
   ]
  },
  {
   "cell_type": "code",
   "execution_count": 44,
   "metadata": {},
   "outputs": [
    {
     "data": {
      "text/html": [
       "<div>\n",
       "<style scoped>\n",
       "    .dataframe tbody tr th:only-of-type {\n",
       "        vertical-align: middle;\n",
       "    }\n",
       "\n",
       "    .dataframe tbody tr th {\n",
       "        vertical-align: top;\n",
       "    }\n",
       "\n",
       "    .dataframe thead th {\n",
       "        text-align: right;\n",
       "    }\n",
       "</style>\n",
       "<table border=\"1\" class=\"dataframe\">\n",
       "  <thead>\n",
       "    <tr style=\"text-align: right;\">\n",
       "      <th></th>\n",
       "      <th>True positives</th>\n",
       "      <th>False negatives</th>\n",
       "      <th>Total</th>\n",
       "    </tr>\n",
       "  </thead>\n",
       "  <tbody>\n",
       "    <tr>\n",
       "      <th>%</th>\n",
       "      <td>99.303797</td>\n",
       "      <td>0.696203</td>\n",
       "      <td>100</td>\n",
       "    </tr>\n",
       "    <tr>\n",
       "      <th>N</th>\n",
       "      <td>1569.000000</td>\n",
       "      <td>11.000000</td>\n",
       "      <td>1580</td>\n",
       "    </tr>\n",
       "  </tbody>\n",
       "</table>\n",
       "</div>"
      ],
      "text/plain": [
       "   True positives  False negatives  Total\n",
       "%       99.303797         0.696203    100\n",
       "N     1569.000000        11.000000   1580"
      ]
     },
     "execution_count": 44,
     "metadata": {},
     "output_type": "execute_result"
    }
   ],
   "source": [
    "table_results(total, results, n)"
   ]
  },
  {
   "cell_type": "code",
   "execution_count": 45,
   "metadata": {},
   "outputs": [
    {
     "data": {
      "image/png": "[encoded data removed]",
      "text/plain": [
       "<Figure size 432x288 with 2 Axes>"
      ]
     },
     "metadata": {
      "needs_background": "light"
     },
     "output_type": "display_data"
    }
   ],
   "source": [
    "regex_eval.plot_confusion_matrix(\"Divorce accepté\")"
   ]
  },
  {
   "cell_type": "markdown",
   "metadata": {},
   "source": [
    "### Pour altération définitive du lien conjugal"
   ]
  },
  {
   "cell_type": "code",
   "execution_count": 46,
   "metadata": {},
   "outputs": [],
   "source": [
    "total, results = regex_eval.calculate_metrics(\"Pour altération définitive du lien conjugal\")\n",
    "total, n = regex_eval.calculate_metrics(\"Pour altération définitive du lien conjugal\", percentage=False)"
   ]
  },
  {
   "cell_type": "code",
   "execution_count": 47,
   "metadata": {},
   "outputs": [
    {
     "data": {
      "text/html": [
       "<div>\n",
       "<style scoped>\n",
       "    .dataframe tbody tr th:only-of-type {\n",
       "        vertical-align: middle;\n",
       "    }\n",
       "\n",
       "    .dataframe tbody tr th {\n",
       "        vertical-align: top;\n",
       "    }\n",
       "\n",
       "    .dataframe thead th {\n",
       "        text-align: right;\n",
       "    }\n",
       "</style>\n",
       "<table border=\"1\" class=\"dataframe\">\n",
       "  <thead>\n",
       "    <tr style=\"text-align: right;\">\n",
       "      <th></th>\n",
       "      <th>True positives</th>\n",
       "      <th>False negatives</th>\n",
       "      <th>Total</th>\n",
       "    </tr>\n",
       "  </thead>\n",
       "  <tbody>\n",
       "    <tr>\n",
       "      <th>%</th>\n",
       "      <td>98.527607</td>\n",
       "      <td>1.472393</td>\n",
       "      <td>100</td>\n",
       "    </tr>\n",
       "    <tr>\n",
       "      <th>N</th>\n",
       "      <td>803.000000</td>\n",
       "      <td>12.000000</td>\n",
       "      <td>815</td>\n",
       "    </tr>\n",
       "  </tbody>\n",
       "</table>\n",
       "</div>"
      ],
      "text/plain": [
       "   True positives  False negatives  Total\n",
       "%       98.527607         1.472393    100\n",
       "N      803.000000        12.000000    815"
      ]
     },
     "execution_count": 47,
     "metadata": {},
     "output_type": "execute_result"
    }
   ],
   "source": [
    "table_results(total, results, n)"
   ]
  },
  {
   "cell_type": "code",
   "execution_count": 48,
   "metadata": {},
   "outputs": [
    {
     "data": {
      "image/png": "[encoded data removed]",
      "text/plain": [
       "<Figure size 432x288 with 2 Axes>"
      ]
     },
     "metadata": {
      "needs_background": "light"
     },
     "output_type": "display_data"
    }
   ],
   "source": [
    "regex_eval.plot_confusion_matrix(\"Pour altération définitive du lien conjugal\")"
   ]
  },
  {
   "cell_type": "markdown",
   "metadata": {},
   "source": [
    "Le corpus prototypes compte 101 documents qui enregistrent un divorce pour cause d'\"altération définitive du lien conjugal\".\n",
    "\n",
    "La mention des articles 237 ou 239 suffit pour identifier relativement précisément les divorces pour \"altération définitive du lien conjugal\"."
   ]
  },
  {
   "cell_type": "markdown",
   "metadata": {},
   "source": [
    "### Séparation de corps"
   ]
  },
  {
   "cell_type": "code",
   "execution_count": 49,
   "metadata": {},
   "outputs": [
    {
     "data": {
      "text/html": [
       "<div>\n",
       "<style scoped>\n",
       "    .dataframe tbody tr th:only-of-type {\n",
       "        vertical-align: middle;\n",
       "    }\n",
       "\n",
       "    .dataframe tbody tr th {\n",
       "        vertical-align: top;\n",
       "    }\n",
       "\n",
       "    .dataframe thead th {\n",
       "        text-align: right;\n",
       "    }\n",
       "</style>\n",
       "<table border=\"1\" class=\"dataframe\">\n",
       "  <thead>\n",
       "    <tr style=\"text-align: right;\">\n",
       "      <th></th>\n",
       "      <th>True positives</th>\n",
       "      <th>False negatives</th>\n",
       "      <th>Total</th>\n",
       "    </tr>\n",
       "  </thead>\n",
       "  <tbody>\n",
       "    <tr>\n",
       "      <th>%</th>\n",
       "      <td>100.0</td>\n",
       "      <td>0.0</td>\n",
       "      <td>100</td>\n",
       "    </tr>\n",
       "    <tr>\n",
       "      <th>N</th>\n",
       "      <td>22.0</td>\n",
       "      <td>0.0</td>\n",
       "      <td>22</td>\n",
       "    </tr>\n",
       "  </tbody>\n",
       "</table>\n",
       "</div>"
      ],
      "text/plain": [
       "   True positives  False negatives  Total\n",
       "%           100.0              0.0    100\n",
       "N            22.0              0.0     22"
      ]
     },
     "execution_count": 49,
     "metadata": {},
     "output_type": "execute_result"
    }
   ],
   "source": [
    "total, results = regex_eval.calculate_metrics(\"Par conversion de séparation de corps\")\n",
    "total, n = regex_eval.calculate_metrics(\"Par conversion de séparation de corps\", percentage=False)\n",
    "\n",
    "table_results(total, results, n)"
   ]
  },
  {
   "cell_type": "code",
   "execution_count": 50,
   "metadata": {},
   "outputs": [
    {
     "data": {
      "image/png": "[encoded data removed]",
      "text/plain": [
       "<Figure size 432x288 with 2 Axes>"
      ]
     },
     "metadata": {
      "needs_background": "light"
     },
     "output_type": "display_data"
    }
   ],
   "source": [
    "regex_eval.plot_confusion_matrix(\"Par conversion de séparation de corps\")"
   ]
  },
  {
   "cell_type": "markdown",
   "metadata": {},
   "source": [
    "### Par consentement mutuel"
   ]
  },
  {
   "cell_type": "code",
   "execution_count": 51,
   "metadata": {},
   "outputs": [
    {
     "ename": "ZeroDivisionError",
     "evalue": "division by zero",
     "output_type": "error",
     "traceback": [
      "\u001b[1;31m---------------------------------------------------------------------------\u001b[0m",
      "\u001b[1;31mZeroDivisionError\u001b[0m                         Traceback (most recent call last)",
      "\u001b[1;32m<ipython-input-51-5cf35d654480>\u001b[0m in \u001b[0;36m<module>\u001b[1;34m\u001b[0m\n\u001b[1;32m----> 1\u001b[1;33m \u001b[0mtotal\u001b[0m\u001b[1;33m,\u001b[0m \u001b[0mresults\u001b[0m \u001b[1;33m=\u001b[0m \u001b[0mregex_eval\u001b[0m\u001b[1;33m.\u001b[0m\u001b[0mcalculate_metrics\u001b[0m\u001b[1;33m(\u001b[0m\u001b[1;34m\"Consentement mutuel\"\u001b[0m\u001b[1;33m)\u001b[0m\u001b[1;33m\u001b[0m\u001b[1;33m\u001b[0m\u001b[0m\n\u001b[0m\u001b[0;32m      2\u001b[0m \u001b[0mtotal\u001b[0m\u001b[1;33m,\u001b[0m \u001b[0mn\u001b[0m \u001b[1;33m=\u001b[0m \u001b[0mregex_eval\u001b[0m\u001b[1;33m.\u001b[0m\u001b[0mcalculate_metrics\u001b[0m\u001b[1;33m(\u001b[0m\u001b[1;34m\"Consentement mutuel\"\u001b[0m\u001b[1;33m,\u001b[0m \u001b[0mpercentage\u001b[0m\u001b[1;33m=\u001b[0m\u001b[1;32mFalse\u001b[0m\u001b[1;33m)\u001b[0m\u001b[1;33m\u001b[0m\u001b[1;33m\u001b[0m\u001b[0m\n",
      "\u001b[1;32m~\\Desktop\\MSH\\Projets\\eJuris\\code\\regex\\regex_utils.py\u001b[0m in \u001b[0;36mcalculate_metrics\u001b[1;34m(self, exp, percentage)\u001b[0m\n\u001b[0;32m    181\u001b[0m \u001b[1;33m\u001b[0m\u001b[0m\n\u001b[0;32m    182\u001b[0m         \u001b[1;32mif\u001b[0m \u001b[0mpercentage\u001b[0m \u001b[1;33m==\u001b[0m \u001b[1;32mTrue\u001b[0m\u001b[1;33m:\u001b[0m\u001b[1;33m\u001b[0m\u001b[1;33m\u001b[0m\u001b[0m\n\u001b[1;32m--> 183\u001b[1;33m             return total, {\"TP\": self.results[exp][\"matched\"] / total * 100,\n\u001b[0m\u001b[0;32m    184\u001b[0m                            \"FN\": self.results[exp][\"undermatched\"] / total * 100}\n\u001b[0;32m    185\u001b[0m         \u001b[1;32melse\u001b[0m\u001b[1;33m:\u001b[0m\u001b[1;33m\u001b[0m\u001b[1;33m\u001b[0m\u001b[0m\n",
      "\u001b[1;31mZeroDivisionError\u001b[0m: division by zero"
     ]
    }
   ],
   "source": [
    "total, results = regex_eval.calculate_metrics(\"Consentement mutuel\")\n",
    "total, n = regex_eval.calculate_metrics(\"Consentement mutuel\", percentage=False)"
   ]
  },
  {
   "cell_type": "code",
   "execution_count": null,
   "metadata": {},
   "outputs": [],
   "source": [
    "table_results(total, results, n)"
   ]
  },
  {
   "cell_type": "code",
   "execution_count": null,
   "metadata": {},
   "outputs": [],
   "source": [
    "regex_eval.plot_confusion_matrix(\"Consentement mutuel\")"
   ]
  }
 ],
 "metadata": {
  "kernelspec": {
   "display_name": "Python 3",
   "language": "python",
   "name": "python3"
  },
  "language_info": {
   "codemirror_mode": {
    "name": "ipython",
    "version": 3
   },
   "file_extension": ".py",
   "mimetype": "text/x-python",
   "name": "python",
   "nbconvert_exporter": "python",
   "pygments_lexer": "ipython3",
   "version": "3.7.6"
  }
 },
 "nbformat": 4,
 "nbformat_minor": 4
}
